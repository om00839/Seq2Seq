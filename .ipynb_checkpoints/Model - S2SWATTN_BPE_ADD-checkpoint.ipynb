{
 "cells": [
  {
   "cell_type": "markdown",
   "metadata": {},
   "source": [
    "## Model - S2SWATTN_BPE_ADD\n",
    "- Model: Sequence to sequence with attention\n",
    "- Tokenizer: BPE\n",
    "- Attention: additive attention"
   ]
  },
  {
   "cell_type": "code",
   "execution_count": 1,
   "metadata": {},
   "outputs": [],
   "source": [
    "from data import Tokenizer, NMTDataset\n",
    "from model import AddAttention, Configuration, Seq2SeqWithAttn\n",
    "from utils import train_batches, evaluate_batches, save_model, \\\n",
    "load_model, count_parameters, EarlyStopping, generate_sentence\n",
    "\n",
    "import os\n",
    "import time\n",
    "\n",
    "import torch\n",
    "from torch import nn\n",
    "from torch.nn import functional as F\n",
    "from torch import optim"
   ]
  },
  {
   "cell_type": "markdown",
   "metadata": {},
   "source": [
    "- - -\n",
    "### Data\n",
    "#### Tokenizer"
   ]
  },
  {
   "cell_type": "code",
   "execution_count": 2,
   "metadata": {},
   "outputs": [],
   "source": [
    "src_tokenizer = Tokenizer('./BPE_EN.model')\n",
    "tar_tokenizer = Tokenizer('./BPE_DE.model')"
   ]
  },
  {
   "cell_type": "markdown",
   "metadata": {},
   "source": [
    "#### WMT14Dataset"
   ]
  },
  {
   "cell_type": "code",
   "execution_count": 3,
   "metadata": {},
   "outputs": [],
   "source": [
    "device = torch.device('cuda:1')\n",
    "dataset = NMTDataset.from_txt('./data/newstest2013.en', './data/newstest2013.de', \n",
    "                              src_tokenizer, tar_tokenizer, device)\n",
    "train_dataloader, valid_dataloader = dataset.to_dataloader(batch_size=8, n_workers=0, split=True)"
   ]
  },
  {
   "cell_type": "markdown",
   "metadata": {},
   "source": [
    "- - -\n",
    "### Model\n",
    "#### configuration"
   ]
  },
  {
   "cell_type": "code",
   "execution_count": 4,
   "metadata": {},
   "outputs": [],
   "source": [
    "config = Configuration(src_vocab_size=32000, tar_vocab_size=32000, attention=AddAttention,\n",
    "                       embedding_dim=256, hidden_dim=256, n_layers=2,\n",
    "                       bidirectional=True)"
   ]
  },
  {
   "cell_type": "markdown",
   "metadata": {},
   "source": [
    "#### model"
   ]
  },
  {
   "cell_type": "code",
   "execution_count": 5,
   "metadata": {},
   "outputs": [
    {
     "data": {
      "text/plain": [
       "56016640"
      ]
     },
     "execution_count": 5,
     "metadata": {},
     "output_type": "execute_result"
    }
   ],
   "source": [
    "model = Seq2SeqWithAttn(config)\n",
    "count_parameters(model)"
   ]
  },
  {
   "cell_type": "markdown",
   "metadata": {},
   "source": [
    "- - -\n",
    "### Train\n",
    "#### setting"
   ]
  },
  {
   "cell_type": "code",
   "execution_count": 6,
   "metadata": {},
   "outputs": [],
   "source": [
    "criterion = nn.CrossEntropyLoss()\n",
    "optimizer = optim.Adam(model.parameters())\n",
    "\n",
    "model_dir = './model'\n",
    "model_name = 'S2SWATTN_BPE_ADD.pt'\n",
    "model_path = os.path.join(model_dir, model_name)\n",
    "\n",
    "early_stopping = EarlyStopping(model_path, patience=5, verbose=True)"
   ]
  },
  {
   "cell_type": "markdown",
   "metadata": {},
   "source": [
    "#### train"
   ]
  },
  {
   "cell_type": "code",
   "execution_count": 7,
   "metadata": {
    "deletable": false,
    "editable": false,
    "run_control": {
     "frozen": true
    }
   },
   "outputs": [
    {
     "name": "stdout",
     "output_type": "stream",
     "text": [
      "Epoch 01 | Train Start\n",
      "Epoch 01 | Train End - Elapsed Time: -115.55859661102295\n",
      "Epoch 01 | Evaluate Start\n",
      "Epoch 01 | Evaluate End - Elapsed Time: -378.91650009155273\n",
      "Epoch 01| Train Loss : 4.248968711824018, Val. Loss : 5.939110447875167\n",
      "Epoch 02 | Train Start\n",
      "Epoch 02 | Train End - Elapsed Time: -113.14111685752869\n",
      "Epoch 02 | Evaluate Start\n",
      "Epoch 02 | Evaluate End - Elapsed Time: -376.9027462005615\n",
      "Epoch 02| Train Loss : 3.333204971066899, Val. Loss : 6.923391726164692\n",
      "EarlyStopping counter: 1 out of 5\n",
      "Epoch 03 | Train Start\n",
      "Epoch 03 | Train End - Elapsed Time: -113.02710938453674\n",
      "Epoch 03 | Evaluate Start\n",
      "Epoch 03 | Evaluate End - Elapsed Time: -376.8672823905945\n",
      "Epoch 03| Train Loss : 2.996657992497143, Val. Loss : 6.725966194034678\n",
      "EarlyStopping counter: 2 out of 5\n",
      "Epoch 04 | Train Start\n",
      "Epoch 04 | Train End - Elapsed Time: -112.91137886047363\n",
      "Epoch 04 | Evaluate Start\n",
      "Epoch 04 | Evaluate End - Elapsed Time: -376.83902502059937\n",
      "Epoch 04| Train Loss : 2.673438893071599, Val. Loss : 6.599637620216977\n",
      "EarlyStopping counter: 3 out of 5\n",
      "Epoch 05 | Train Start\n",
      "Epoch 05 | Train End - Elapsed Time: -113.05072569847107\n",
      "Epoch 05 | Evaluate Start\n",
      "Epoch 05 | Evaluate End - Elapsed Time: -337.0249743461609\n",
      "Epoch 05| Train Loss : 2.3284602790730986, Val. Loss : 3.7362015046904573\n",
      "Saving the model to ./model/S2SWATTN_BPE_ADD.pt\n",
      "Epoch 06 | Train Start\n",
      "Epoch 06 | Train End - Elapsed Time: -113.74897456169128\n",
      "Epoch 06 | Evaluate Start\n",
      "Epoch 06 | Evaluate End - Elapsed Time: -252.50520515441895\n",
      "Epoch 06| Train Loss : 1.9237726387415548, Val. Loss : 3.919028705200263\n",
      "EarlyStopping counter: 1 out of 5\n",
      "Epoch 07 | Train Start\n"
     ]
    },
    {
     "ename": "KeyboardInterrupt",
     "evalue": "",
     "output_type": "error",
     "traceback": [
      "\u001b[0;31m---------------------------------------------------------------------------\u001b[0m",
      "\u001b[0;31mKeyboardInterrupt\u001b[0m                         Traceback (most recent call last)",
      "\u001b[0;32m<ipython-input-7-194d3b1e25c2>\u001b[0m in \u001b[0;36m<module>\u001b[0;34m\u001b[0m\n\u001b[1;32m      4\u001b[0m     \u001b[0mprint\u001b[0m\u001b[0;34m(\u001b[0m\u001b[0;34mf'Epoch {epoch+1:02d} | Train Start'\u001b[0m\u001b[0;34m)\u001b[0m\u001b[0;34m\u001b[0m\u001b[0;34m\u001b[0m\u001b[0m\n\u001b[1;32m      5\u001b[0m     \u001b[0mtrain_start\u001b[0m \u001b[0;34m=\u001b[0m \u001b[0mtime\u001b[0m\u001b[0;34m.\u001b[0m\u001b[0mtime\u001b[0m\u001b[0;34m(\u001b[0m\u001b[0;34m)\u001b[0m\u001b[0;34m\u001b[0m\u001b[0;34m\u001b[0m\u001b[0m\n\u001b[0;32m----> 6\u001b[0;31m     \u001b[0mtrain_loss\u001b[0m \u001b[0;34m=\u001b[0m \u001b[0mtrain_batches\u001b[0m\u001b[0;34m(\u001b[0m\u001b[0mmodel\u001b[0m\u001b[0;34m,\u001b[0m \u001b[0mtrain_dataloader\u001b[0m\u001b[0;34m,\u001b[0m \u001b[0mcriterion\u001b[0m\u001b[0;34m,\u001b[0m \u001b[0moptimizer\u001b[0m\u001b[0;34m,\u001b[0m \u001b[0mdevice\u001b[0m\u001b[0;34m)\u001b[0m\u001b[0;34m\u001b[0m\u001b[0;34m\u001b[0m\u001b[0m\n\u001b[0m\u001b[1;32m      7\u001b[0m     \u001b[0mtrain_end\u001b[0m \u001b[0;34m=\u001b[0m \u001b[0mtime\u001b[0m\u001b[0;34m.\u001b[0m\u001b[0mtime\u001b[0m\u001b[0;34m(\u001b[0m\u001b[0;34m)\u001b[0m\u001b[0;34m\u001b[0m\u001b[0;34m\u001b[0m\u001b[0m\n\u001b[1;32m      8\u001b[0m     \u001b[0mprint\u001b[0m\u001b[0;34m(\u001b[0m\u001b[0;34mf'Epoch {epoch+1:02d} | Train End - Elapsed Time: {train_start - train_end}'\u001b[0m\u001b[0;34m)\u001b[0m\u001b[0;34m\u001b[0m\u001b[0;34m\u001b[0m\u001b[0m\n",
      "\u001b[0;32m~/jaeho/utils.py\u001b[0m in \u001b[0;36mtrain_batches\u001b[0;34m(model, dataloader, criterion, optimizer, device)\u001b[0m\n\u001b[1;32m     50\u001b[0m \u001b[0;34m\u001b[0m\u001b[0m\n\u001b[1;32m     51\u001b[0m         \u001b[0mloss\u001b[0m \u001b[0;34m=\u001b[0m \u001b[0mcriterion\u001b[0m\u001b[0;34m(\u001b[0m\u001b[0mlogits\u001b[0m\u001b[0;34m,\u001b[0m \u001b[0mtar_output\u001b[0m\u001b[0;34m)\u001b[0m\u001b[0;34m\u001b[0m\u001b[0;34m\u001b[0m\u001b[0m\n\u001b[0;32m---> 52\u001b[0;31m         \u001b[0mloss\u001b[0m\u001b[0;34m.\u001b[0m\u001b[0mbackward\u001b[0m\u001b[0;34m(\u001b[0m\u001b[0;34m)\u001b[0m\u001b[0;34m\u001b[0m\u001b[0;34m\u001b[0m\u001b[0m\n\u001b[0m\u001b[1;32m     53\u001b[0m \u001b[0;34m\u001b[0m\u001b[0m\n\u001b[1;32m     54\u001b[0m         \u001b[0moptimizer\u001b[0m\u001b[0;34m.\u001b[0m\u001b[0mstep\u001b[0m\u001b[0;34m(\u001b[0m\u001b[0;34m)\u001b[0m\u001b[0;34m\u001b[0m\u001b[0;34m\u001b[0m\u001b[0m\n",
      "\u001b[0;31mKeyboardInterrupt\u001b[0m: "
     ]
    }
   ],
   "source": [
    "epochs = 15\n",
    "for epoch in range(epochs):\n",
    "    \n",
    "    print(f'Epoch {epoch+1:02d} | Train Start')\n",
    "    train_start = time.time()\n",
    "    train_loss = train_batches(model, train_dataloader, criterion, optimizer, device)\n",
    "    train_end = time.time()\n",
    "    print(f'Epoch {epoch+1:02d} | Train End - Elapsed Time: {train_end - train_start}')\n",
    "    \n",
    "    print(f'Epoch {epoch+1:02d} | Evaluate Start')\n",
    "    evaluate_start = time.time()\n",
    "    valid_loss = evaluate_batches(model, valid_dataloader, criterion, device)\n",
    "    evaluate_end = time.time()\n",
    "    print(f'Epoch {epoch+1:02d} | Evaluate End - Elapsed Time: {evaluate_end - evaluate_start}')\n",
    "    print(f'Epoch {epoch+1:02d} | Train Loss : {train_loss}, Val. Loss : {valid_loss}')\n",
    "    \n",
    "    stop = early_stopping(valid_loss, model)\n",
    "    if stop:\n",
    "        break"
   ]
  },
  {
   "cell_type": "markdown",
   "metadata": {},
   "source": [
    "- - -\n",
    "### Save & Load Model\n",
    "#### save model"
   ]
  },
  {
   "cell_type": "code",
   "execution_count": null,
   "metadata": {
    "deletable": false,
    "editable": false,
    "run_control": {
     "frozen": true
    }
   },
   "outputs": [],
   "source": [
    "save_model(model, model_path)"
   ]
  },
  {
   "cell_type": "markdown",
   "metadata": {},
   "source": [
    "#### load model"
   ]
  },
  {
   "cell_type": "code",
   "execution_count": 8,
   "metadata": {},
   "outputs": [
    {
     "name": "stdout",
     "output_type": "stream",
     "text": [
      "Loading the model from ./model/S2SWATTN_BPE_ADD.pt\n"
     ]
    }
   ],
   "source": [
    "model = load_model(model, model_path)"
   ]
  },
  {
   "cell_type": "markdown",
   "metadata": {},
   "source": [
    "- - -\n",
    "### Generate sentence\n",
    "- Example 1\n",
    "    - Source: Republican leaders justified their policy by the need to combat electoral fraud .\n",
    "    - Target: Die Führungskräfte der Republikaner rechtfertigen ihre Politik mit der Notwendigkeit , den Wahlbetrug zu bekämpfen ."
   ]
  },
  {
   "cell_type": "code",
   "execution_count": 13,
   "metadata": {},
   "outputs": [
    {
     "name": "stdout",
     "output_type": "stream",
     "text": [
      "Source Sentence: Republican leaders justified their policy by the need to combat electoral fraud .\n",
      "Generated Sentence: Nur ist es die heutige , die die Wählernvausweis vorzuzeigen .\n",
      "True Sentence: Die Führungskräfte der Republikaner rechtfertigen ihre Politik mit der Notwendigkeit , den Wahlbetrug zu bekämpfen .\n"
     ]
    }
   ],
   "source": [
    "src_sent = 'Republican leaders justified their policy by the need to combat electoral fraud .'\n",
    "true_sent = 'Die Führungskräfte der Republikaner rechtfertigen ihre Politik mit der Notwendigkeit , den Wahlbetrug zu bekämpfen .'\n",
    "pred_sent = generate_sentence(src_sent, model, src_tokenizer, tar_tokenizer, device)\n",
    "print(f'Source Sentence: {src_sent}')\n",
    "print(f'Generated Sentence: {pred_sent}')\n",
    "print(f'True Sentence: {true_sent}')"
   ]
  },
  {
   "cell_type": "markdown",
   "metadata": {},
   "source": [
    "- Example 2\n",
    "    - Source: In this sense , the measures will partially undermine the American democratic system .\n",
    "    - Target: In diesem Sinne untergraben diese Maßnahmen teilweise das demokratische System der USA ."
   ]
  },
  {
   "cell_type": "code",
   "execution_count": 14,
   "metadata": {},
   "outputs": [
    {
     "name": "stdout",
     "output_type": "stream",
     "text": [
      "Source Sentence: In this sense , the measures will partially undermine the American democratic system .\n",
      "Generated Sentence: In den Inhalts ist die Vereinigten Staaten , die die Vereinigten Staaten .\n",
      "True Sentence: In diesem Sinne untergraben diese Maßnahmen teilweise das demokratische System der USA .\n"
     ]
    }
   ],
   "source": [
    "src_sent = 'In this sense , the measures will partially undermine the American democratic system .'\n",
    "true_sent = 'In diesem Sinne untergraben diese Maßnahmen teilweise das demokratische System der USA .'\n",
    "pred_sent = generate_sentence(src_sent, model, src_tokenizer, tar_tokenizer, device)\n",
    "print(f'Source Sentence: {src_sent}')\n",
    "print(f'Generated Sentence: {pred_sent}')\n",
    "print(f'True Sentence: {true_sent}')"
   ]
  },
  {
   "cell_type": "code",
   "execution_count": null,
   "metadata": {},
   "outputs": [],
   "source": []
  }
 ],
 "metadata": {
  "kernelspec": {
   "display_name": "Python [conda env:py36tf14] *",
   "language": "python",
   "name": "conda-env-py36tf14-py"
  },
  "language_info": {
   "codemirror_mode": {
    "name": "ipython",
    "version": 3
   },
   "file_extension": ".py",
   "mimetype": "text/x-python",
   "name": "python",
   "nbconvert_exporter": "python",
   "pygments_lexer": "ipython3",
   "version": "3.6.9"
  }
 },
 "nbformat": 4,
 "nbformat_minor": 2
}
